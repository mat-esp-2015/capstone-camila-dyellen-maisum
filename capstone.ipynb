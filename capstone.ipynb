{
 "cells": [
  {
   "cell_type": "markdown",
   "metadata": {},
   "source": [
    "# Lendo dados de geociência"
   ]
  },
  {
   "cell_type": "markdown",
   "metadata": {},
   "source": [
    "## License\n",
    "\n",
    "All content can be freely used and adapted under the terms of the \n",
    "[Creative Commons Attribution 4.0 International License](http://creativecommons.org/licenses/by/4.0/).\n",
    "\n",
    "![Creative Commons License](https://i.creativecommons.org/l/by/4.0/88x31.png)"
   ]
  },
  {
   "cell_type": "markdown",
   "metadata": {},
   "source": [
    "## Imports\n",
    "\n",
    "Coloque **todos** os `import` na célula abaixo. Não se esqueça do `%matplotlib inline` para que os gráficos apareçam no notebook."
   ]
  },
  {
   "cell_type": "code",
   "execution_count": 1,
   "metadata": {
    "collapsed": true
   },
   "outputs": [],
   "source": [
    "import numpy as np\n",
    "import matplotlib.pyplot as plt\n",
    "import math\n",
    "%matplotlib inline"
   ]
  },
  {
   "cell_type": "markdown",
   "metadata": {},
   "source": [
    "## IMPORTANTE\n",
    "\n",
    "Agora que vocês sabem técnicas de programação defensiva, eu espero que todo o código que vocês fizerem abaixo utilizem essas técnicas. Crie docstrings para suas funções, cheque as entradas (quando for possível) e cheque as saídas. **Não esqueçam dos comentários**."
   ]
  },
  {
   "cell_type": "markdown",
   "metadata": {},
   "source": [
    "## Temperatura no Rio de Janeiro\n",
    "\n",
    "O arquivo `data/23.31S-42.82W-TAVG-Trend.txt` contém dados de temperatura média mensal para a cidade do Rio de Janeiro. O arquivo também contém médias móveis anual, 5, 10 e 20 anos. Esses dados foram baixados do site Berkeley Earth (http://berkeleyearth.lbl.gov/locations/23.31S-42.82W).\n",
    "\n",
    "### Tarefa\n",
    "\n",
    "Faça duas funções, uma que lê os dados de temperatura mensal, outra que lê os dados da média móvel anual.\n",
    "As duas funções devem:\n",
    "\n",
    "* Receber como entrada **somente** o nome do arquivo de dados.\n",
    "* Retornar duas listas: uma com as datas referentes aos dados e outra com os dados de temperatura.\n",
    "* As datas retornadas devem ser em anos decimais. Ex: Janeiro de 1984 seria 1984.0833333333333 (1984 + 1/12).\n",
    "* Datas sem valores de temperatura (NaN) devem ser ignoradas (não incluidas nas listas).\n",
    "\n",
    "Utilize suas funções para carregar os dados e fazer um gráfico da temperatura média mensal e média movel anual pelo tempo."
   ]
  },
  {
   "cell_type": "code",
   "execution_count": 2,
   "metadata": {
    "collapsed": false
   },
   "outputs": [],
   "source": [
    "arquivo = 'data/23.31S-42.82W-TAVG-Trend.txt'"
   ]
  },
  {
   "cell_type": "code",
   "execution_count": 3,
   "metadata": {
    "collapsed": true
   },
   "outputs": [],
   "source": [
    "def temp_mensal(arquivo):\n",
    "    \"\"\"\" Recebe com entrada o nome do arquivo, filtra os comentários e linhas em branco e retorna\n",
    "         duas listas, uma com as datas de forma decimal,\n",
    "         e a outra com as temperaturas recuperadas a partir das anomalias dadas \"\"\"\n",
    "    \n",
    "    arquivo = open(arquivo)\n",
    "   \n",
    "    datas = []\n",
    "    dados = []\n",
    "    for linhas in arquivo:\n",
    "        if linhas[0] != '%':  # Elimina as linhas que possuam comentários\n",
    "            coluna = linhas.split()\n",
    "            if len(coluna) != 0:  # Elimina as linhas que não são formatadas em colunas\n",
    "                if coluna[2] != 'NaN': # Elimina as linhas cuja conuna 2 não contenha dados.\n",
    "                    \n",
    "                    ano = float(coluna[0])\n",
    "                    mes = float(coluna[1])\n",
    "                    dadostemp  = float(coluna[2])\n",
    "                    dadosmes = dadostemp + 24.01 # Recupera a temperatura a partir da anomalia.\n",
    "                    anomensal = ano + (mes/12) # Obtem a data no formato decimal\n",
    "                    datas.append(anomensal)\n",
    "                    dados.append(dadosmes) \n",
    "    arquivo.close()\n",
    "    return datas, dados\n"
   ]
  },
  {
   "cell_type": "code",
   "execution_count": 4,
   "metadata": {
    "collapsed": false
   },
   "outputs": [],
   "source": [
    "# print (temp_mensal(arquivo)[0],temp_mensal(arquivo)[1]) # Impresão usada apena para teste.\n"
   ]
  },
  {
   "cell_type": "code",
   "execution_count": 8,
   "metadata": {
    "collapsed": true
   },
   "outputs": [],
   "source": [
    "def temp_moveis(arquivo):\n",
    "    \"\"\"\" Recebe com entrada o nome do arquivo, filtra os comentários e linhas em branco e retorna\n",
    "         duas listas, uma com as datas de forma decimal,\n",
    "         e a outra com as medias moveis anuais das temperaturas recuperadas a partir das anomalias dadas \"\"\"\n",
    "    \n",
    "    \n",
    "    \n",
    "    arquivo = open(arquivo)\n",
    "    datas = []\n",
    "    dados_moveis = []\n",
    "    for linhas in arquivo:\n",
    "        if linhas[0] != '%':     # Elimina as linhas que possuam comentários\n",
    "            coluna = linhas.split()\n",
    "            if len(coluna) != 0:   # Elimina as linhas que não são formatadas em colunas\n",
    "                if coluna[4] != 'NaN':  # Elimina as linhas cuja coluna 4 não contenha dados.\n",
    "                    \n",
    "                    ano = float(coluna[0])\n",
    "                    mes = float(coluna[1])\n",
    "                    dadostemp_mediamóvel = float(coluna[4])\n",
    "                    dadosmes = dadostemp_mediamóvel + 24.01 # Recupera a media móvel anual a partir da anomalia.\n",
    "                    anomensal = ano + (mes/12) # Obtem a data no formato decimal\n",
    "                    datas.append(anomensal)\n",
    "                    dados_moveis.append(dadosmes) \n",
    "    arquivo.close()\n",
    "    return datas, dados_moveis"
   ]
  },
  {
   "cell_type": "code",
   "execution_count": 6,
   "metadata": {
    "collapsed": false
   },
   "outputs": [],
   "source": [
    "# print (temp_mensal(arquivo)[0],temp_mensal(arquivo)[1]) # Impresão usada apena para teste."
   ]
  },
  {
   "cell_type": "code",
   "execution_count": 9,
   "metadata": {
    "collapsed": false
   },
   "outputs": [
    {
     "data": {
      "text/plain": [
       "(1832.0833333333333, 2013.6666666666667)"
      ]
     },
     "execution_count": 9,
     "metadata": {},
     "output_type": "execute_result"
    },
    {
     "data": {
      "image/png": "[encoded data removed]",
      "text/plain": [
       "<matplotlib.figure.Figure at 0x778a518>"
      ]
     },
     "metadata": {},
     "output_type": "display_data"
    }
   ],
   "source": [
    "plt.figure()\n",
    "plt.plot(temp_mensal(arquivo)[0],temp_mensal(arquivo)[1],'.', label = 'média mensal')\n",
    "plt.plot(temp_moveis(arquivo)[0],temp_moveis(arquivo)[1],'r', linewidth = 2 , label = 'média movel') \n",
    "plt.legend(loc='upper left', shadow=True, fontsize='large')\n",
    "# legenda\n",
    "plt.title('Média de temperatura e médias moveis mensais')\n",
    "plt.ylabel('Temperatura(ºC)')\n",
    "plt.xlabel('Ano')\n",
    "plt.xlim(min(temp_mensal(arquivo)[0]), max(temp_mensal(arquivo)[0]))\n"
   ]
  },
  {
   "cell_type": "markdown",
   "metadata": {},
   "source": [
    "### Resultado esperado\n",
    "\n",
    "O gráfico final deve ser parecido com o abaixo:\n",
    "\n",
    "![images/media-mensal-temp-rio.png](images/media-mensal-temp-rio.png)"
   ]
  },
  {
   "cell_type": "markdown",
   "metadata": {},
   "source": [
    "### Tarefa\n",
    "\n",
    "Faça uma função que calcule a temperatura média anual a partir das temperaturas mensais. A sua função deve:\n",
    "\n",
    "* Receber como entrada a lista das datas e a lista das temperaturas mensais.\n",
    "* Retornar duas listas: uma com os anos e outra com as temperaturas médias correspondetes.\n",
    "* Anos que não contem dados de todos os 12 meses devem ser ignorados (não incluídos nas listas retornadas).\n",
    "\n",
    "Utilize sua função para calcular a média anual. Faça um gráfico da temperatura média anual por ano junto com a média móvel anual.\n",
    "\n",
    "**Dica**: A função `math.floor` retorna o número inteiro que precede um número real. Ex: `math.floor(1984.23) == 1984`"
   ]
  },
  {
   "cell_type": "code",
   "execution_count": null,
   "metadata": {
    "collapsed": true
   },
   "outputs": [],
   "source": [
    "def temp_media_anual(datas, dados):\n",
    "    \"\"\"\" Esta função recebe duas listas, uma com as datas decimais, e a outra com as temperatures mensais. \n",
    "         Ela lê todos os registros validos de um dado ano, verifica se são 12, e retorna duas listas,\n",
    "         uma com os anos válidos e a outra com a temperatura média anual \"\"\"   \n",
    "    \n",
    "    \n",
    "    \n",
    "    datas = []\n",
    "    dados_moveis = []\n",
    "    for linhas in arquivo:\n",
    "        if linhas[0] != '%':\n",
    "            coluna = linhas.split()\n",
    "            if len(coluna) != 0:\n",
    "                if coluna[4] != 'NaN':\n",
    "                    \n",
    "                    ano = float(coluna[0])\n",
    "                    mes = float(coluna[1])\n",
    "                    dadostemp = float(coluna[4])\n",
    "                    dadosmes = dadostemp + 24.01\n",
    "                    anomensal = ano + (mes/12)\n",
    "                    datas.append(anomensal)\n",
    "                    dados_moveis.append(dadosmes) \n",
    "    arquivo.close()\n",
    "    return datas, dados_moveis"
   ]
  },
  {
   "cell_type": "code",
   "execution_count": null,
   "metadata": {
    "collapsed": true
   },
   "outputs": [],
   "source": []
  },
  {
   "cell_type": "code",
   "execution_count": null,
   "metadata": {
    "collapsed": true
   },
   "outputs": [],
   "source": []
  },
  {
   "cell_type": "code",
   "execution_count": null,
   "metadata": {
    "collapsed": true
   },
   "outputs": [],
   "source": []
  },
  {
   "cell_type": "code",
   "execution_count": null,
   "metadata": {
    "collapsed": true
   },
   "outputs": [],
   "source": []
  },
  {
   "cell_type": "markdown",
   "metadata": {},
   "source": [
    "### Resultado esperado\n",
    "\n",
    "O gráfico final deve ser parecido com o abaixo:\n",
    "\n",
    "![images/media-anual-temp-rio.png](images/media-anual-temp-rio.png)"
   ]
  },
  {
   "cell_type": "markdown",
   "metadata": {},
   "source": [
    "## Tarefa Bônus\n",
    "\n",
    "Salve os dados da média anual em um arquivo CSV (comma separated values) chamado `temp-media-anual.csv`. Os valores devem ser separados por `,`. A primeira coluna deve conter os anos e a segunda as temperaturas. Esse arquivo deve estar presente em seu repositório (dê `git add` nele)."
   ]
  },
  {
   "cell_type": "code",
   "execution_count": null,
   "metadata": {
    "collapsed": true
   },
   "outputs": [],
   "source": []
  },
  {
   "cell_type": "code",
   "execution_count": null,
   "metadata": {
    "collapsed": true
   },
   "outputs": [],
   "source": []
  },
  {
   "cell_type": "code",
   "execution_count": null,
   "metadata": {
    "collapsed": true
   },
   "outputs": [],
   "source": []
  },
  {
   "cell_type": "code",
   "execution_count": null,
   "metadata": {
    "collapsed": true
   },
   "outputs": [],
   "source": []
  },
  {
   "cell_type": "code",
   "execution_count": null,
   "metadata": {
    "collapsed": true
   },
   "outputs": [],
   "source": []
  }
 ],
 "metadata": {
  "kernelspec": {
   "display_name": "Python 3",
   "language": "python",
   "name": "python3"
  },
  "language_info": {
   "codemirror_mode": {
    "name": "ipython",
    "version": 3
   },
   "file_extension": ".py",
   "mimetype": "text/x-python",
   "name": "python",
   "nbconvert_exporter": "python",
   "pygments_lexer": "ipython3",
   "version": "3.4.3"
  }
 },
 "nbformat": 4,
 "nbformat_minor": 0
}
